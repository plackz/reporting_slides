{
 "cells": [
  {
   "cell_type": "code",
   "execution_count": 12,
   "metadata": {
    "collapsed": false
   },
   "outputs": [],
   "source": [
    "import pandas as pd\n",
    "import matplotlib.pyplot as plt\n"
   ]
  },
  {
   "cell_type": "code",
   "execution_count": 7,
   "metadata": {
    "collapsed": false
   },
   "outputs": [],
   "source": [
    "# Read the data into a pandas DataFrame.    \n",
    "quality_monthly_data = pd.read_excel(\"/home/peter/projects/reporting_slides/monthly_data.xlsx\")    "
   ]
  },
  {
   "cell_type": "code",
   "execution_count": 8,
   "metadata": {
    "collapsed": false
   },
   "outputs": [
    {
     "data": {
      "text/html": [
       "<div>\n",
       "<table border=\"1\" class=\"dataframe\">\n",
       "  <thead>\n",
       "    <tr style=\"text-align: right;\">\n",
       "      <th></th>\n",
       "      <th>Date</th>\n",
       "      <th>SBV</th>\n",
       "      <th>LBV</th>\n",
       "      <th>TOT</th>\n",
       "      <th>TRGT</th>\n",
       "    </tr>\n",
       "  </thead>\n",
       "  <tbody>\n",
       "    <tr>\n",
       "      <th>0</th>\n",
       "      <td>2017-01-01</td>\n",
       "      <td>80</td>\n",
       "      <td>83</td>\n",
       "      <td>80.6</td>\n",
       "      <td>95</td>\n",
       "    </tr>\n",
       "    <tr>\n",
       "      <th>1</th>\n",
       "      <td>2017-02-01</td>\n",
       "      <td>95</td>\n",
       "      <td>82</td>\n",
       "      <td>92.4</td>\n",
       "      <td>95</td>\n",
       "    </tr>\n",
       "    <tr>\n",
       "      <th>2</th>\n",
       "      <td>2017-03-01</td>\n",
       "      <td>88</td>\n",
       "      <td>95</td>\n",
       "      <td>89.4</td>\n",
       "      <td>95</td>\n",
       "    </tr>\n",
       "    <tr>\n",
       "      <th>3</th>\n",
       "      <td>2017-04-01</td>\n",
       "      <td>84</td>\n",
       "      <td>92</td>\n",
       "      <td>85.6</td>\n",
       "      <td>95</td>\n",
       "    </tr>\n",
       "    <tr>\n",
       "      <th>4</th>\n",
       "      <td>2017-05-01</td>\n",
       "      <td>87</td>\n",
       "      <td>94</td>\n",
       "      <td>88.4</td>\n",
       "      <td>95</td>\n",
       "    </tr>\n",
       "    <tr>\n",
       "      <th>5</th>\n",
       "      <td>2017-06-01</td>\n",
       "      <td>95</td>\n",
       "      <td>83</td>\n",
       "      <td>92.6</td>\n",
       "      <td>95</td>\n",
       "    </tr>\n",
       "    <tr>\n",
       "      <th>6</th>\n",
       "      <td>2017-07-01</td>\n",
       "      <td>94</td>\n",
       "      <td>83</td>\n",
       "      <td>91.8</td>\n",
       "      <td>95</td>\n",
       "    </tr>\n",
       "    <tr>\n",
       "      <th>7</th>\n",
       "      <td>2017-08-01</td>\n",
       "      <td>81</td>\n",
       "      <td>87</td>\n",
       "      <td>82.2</td>\n",
       "      <td>95</td>\n",
       "    </tr>\n",
       "    <tr>\n",
       "      <th>8</th>\n",
       "      <td>2017-09-01</td>\n",
       "      <td>83</td>\n",
       "      <td>95</td>\n",
       "      <td>85.4</td>\n",
       "      <td>95</td>\n",
       "    </tr>\n",
       "    <tr>\n",
       "      <th>9</th>\n",
       "      <td>2017-10-01</td>\n",
       "      <td>82</td>\n",
       "      <td>81</td>\n",
       "      <td>81.8</td>\n",
       "      <td>95</td>\n",
       "    </tr>\n",
       "    <tr>\n",
       "      <th>10</th>\n",
       "      <td>2017-11-01</td>\n",
       "      <td>83</td>\n",
       "      <td>87</td>\n",
       "      <td>83.8</td>\n",
       "      <td>95</td>\n",
       "    </tr>\n",
       "    <tr>\n",
       "      <th>11</th>\n",
       "      <td>2017-12-01</td>\n",
       "      <td>82</td>\n",
       "      <td>83</td>\n",
       "      <td>82.2</td>\n",
       "      <td>95</td>\n",
       "    </tr>\n",
       "  </tbody>\n",
       "</table>\n",
       "</div>"
      ],
      "text/plain": [
       "         Date  SBV  LBV   TOT  TRGT\n",
       "0  2017-01-01   80   83  80.6    95\n",
       "1  2017-02-01   95   82  92.4    95\n",
       "2  2017-03-01   88   95  89.4    95\n",
       "3  2017-04-01   84   92  85.6    95\n",
       "4  2017-05-01   87   94  88.4    95\n",
       "5  2017-06-01   95   83  92.6    95\n",
       "6  2017-07-01   94   83  91.8    95\n",
       "7  2017-08-01   81   87  82.2    95\n",
       "8  2017-09-01   83   95  85.4    95\n",
       "9  2017-10-01   82   81  81.8    95\n",
       "10 2017-11-01   83   87  83.8    95\n",
       "11 2017-12-01   82   83  82.2    95"
      ]
     },
     "execution_count": 8,
     "metadata": {},
     "output_type": "execute_result"
    }
   ],
   "source": [
    "quality_monthly_data"
   ]
  },
  {
   "cell_type": "code",
   "execution_count": 9,
   "metadata": {
    "collapsed": true
   },
   "outputs": [],
   "source": [
    "# These are the \"Tableau 20\" colors as RGB.    \n",
    "tableau20 = [(31, 119, 180), (174, 199, 232), (255, 127, 14), (255, 187, 120),    \n",
    "             (44, 160, 44), (152, 223, 138), (214, 39, 40), (255, 152, 150),    \n",
    "             (148, 103, 189), (197, 176, 213), (140, 86, 75), (196, 156, 148),    \n",
    "             (227, 119, 194), (247, 182, 210), (127, 127, 127), (199, 199, 199),    \n",
    "             (188, 189, 34), (219, 219, 141), (23, 190, 207), (158, 218, 229)]    \n",
    "  \n",
    "# Scale the RGB values to the [0, 1] range, which is the format matplotlib accepts.    \n",
    "for i in range(len(tableau20)):    \n",
    "    r, g, b = tableau20[i]    \n",
    "    tableau20[i] = (r / 255., g / 255., b / 255.)    "
   ]
  },
  {
   "cell_type": "code",
   "execution_count": 13,
   "metadata": {
    "collapsed": false
   },
   "outputs": [
    {
     "data": {
      "text/plain": [
       "<matplotlib.figure.Figure at 0x7f3958e65cf8>"
      ]
     },
     "execution_count": 13,
     "metadata": {},
     "output_type": "execute_result"
    }
   ],
   "source": [
    "# You typically want your plot to be ~1.33x wider than tall. This plot is a rare    \n",
    "# exception because of the number of lines being plotted on it.    \n",
    "# Common sizes: (10, 7.5) and (12, 9)    \n",
    "plt.figure(figsize=(12, 9))    "
   ]
  },
  {
   "cell_type": "code",
   "execution_count": 14,
   "metadata": {
    "collapsed": true
   },
   "outputs": [],
   "source": [
    "# Remove the plot frame lines. They are unnecessary chartjunk.    \n",
    "ax = plt.subplot(111)    \n",
    "ax.spines[\"top\"].set_visible(False)    \n",
    "ax.spines[\"bottom\"].set_visible(False)    \n",
    "ax.spines[\"right\"].set_visible(False)    \n",
    "ax.spines[\"left\"].set_visible(False)   "
   ]
  },
  {
   "cell_type": "code",
   "execution_count": 15,
   "metadata": {
    "collapsed": true
   },
   "outputs": [],
   "source": [
    "  \n",
    "# Limit the range of the plot to only where the data is.    \n",
    "# Avoid unnecessary whitespace.    \n",
    "plt.ylim(0, 90)    \n",
    "plt.xlim(1968, 2014)    \n",
    "  \n",
    "# Make sure your axis ticks are large enough to be easily read.    \n",
    "# You don't want your viewers squinting to read your plot.    \n",
    "plt.yticks(range(0, 91, 10), [str(x) + \"%\" for x in range(0, 91, 10)], fontsize=14)    \n",
    "plt.xticks(fontsize=14)    \n",
    "  \n",
    "# Provide tick lines across the plot to help your viewers trace along    \n",
    "# the axis ticks. Make sure that the lines are light and small so they    \n",
    "# don't obscure the primary data lines.    \n",
    "for y in range(10, 91, 10):    \n",
    "    plt.plot(range(1968, 2012), [y] * len(range(1968, 2012)), \"--\", lw=0.5, color=\"black\", alpha=0.3)    \n",
    "  \n",
    "# Remove the tick marks; they are unnecessary with the tick lines we just plotted.    \n",
    "plt.tick_params(axis=\"both\", which=\"both\", bottom=\"off\", top=\"off\",    \n",
    "                labelbottom=\"on\", left=\"off\", right=\"off\", labelleft=\"on\") "
   ]
  },
  {
   "cell_type": "code",
   "execution_count": 18,
   "metadata": {
    "collapsed": false
   },
   "outputs": [],
   "source": [
    "# Now that the plot is prepared, it's time to actually plot the data!       \n",
    "areas = ['SBV', 'LBV'] \n",
    "\n",
    "for rank, column in enumerate(areas):    \n",
    "    # Plot each line separately with its own color, using the Tableau 20    \n",
    "    # color set in order.    \n",
    "    plt.plot(quality_monthly_data.Date.values,    \n",
    "            quality_monthly_data[column.replace(\"\\n\", \" \")].values,    \n",
    "            lw=2.5, color=tableau20[rank])   "
   ]
  },
  {
   "cell_type": "code",
   "execution_count": 19,
   "metadata": {
    "collapsed": false
   },
   "outputs": [
    {
     "data": {
      "text/plain": [
       "<matplotlib.text.Text at 0x7f3958b09128>"
      ]
     },
     "execution_count": 19,
     "metadata": {},
     "output_type": "execute_result"
    }
   ],
   "source": [
    "plt.text(1995, 93, \"OKC FPY (TTM)\", fontsize=17, ha=\"center\")    \n",
    "\n",
    "plt.text(1966, -8, \"Data source: nces.ed.gov/programs/digest/2013menu_tables.asp\"    \n",
    "       \"\\nAuthor: Randy Olson (randalolson.com / @randal_olson)\"    \n",
    "       \"\\nNote: Some majors are missing because the historical data \"    \n",
    "       \"is not available for them\", fontsize=10) "
   ]
  },
  {
   "cell_type": "code",
   "execution_count": 20,
   "metadata": {
    "collapsed": true
   },
   "outputs": [],
   "source": [
    "# Finally, save the figure as a PNG.    \n",
    "# You can also save it as a PDF, JPEG, etc.    \n",
    "# Just change the file extension in this call.    \n",
    "# bbox_inches=\"tight\" removes all the extra whitespace on the edges of your plot.    \n",
    "plt.savefig(\"O=okc_fpy.png\", bbox_inches=\"tight\")"
   ]
  },
  {
   "cell_type": "code",
   "execution_count": null,
   "metadata": {
    "collapsed": true
   },
   "outputs": [],
   "source": []
  }
 ],
 "metadata": {
  "kernelspec": {
   "display_name": "Python 3",
   "language": "python",
   "name": "python3"
  },
  "language_info": {
   "codemirror_mode": {
    "name": "ipython",
    "version": 3
   },
   "file_extension": ".py",
   "mimetype": "text/x-python",
   "name": "python",
   "nbconvert_exporter": "python",
   "pygments_lexer": "ipython3",
   "version": "3.5.2"
  }
 },
 "nbformat": 4,
 "nbformat_minor": 2
}
